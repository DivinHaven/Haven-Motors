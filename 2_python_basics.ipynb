{
 "cells": [
  {
   "attachments": {},
   "cell_type": "markdown",
   "metadata": {},
   "source": [
    "# Python basics"
   ]
  },
  {
   "attachments": {},
   "cell_type": "markdown",
   "metadata": {},
   "source": [
    "## Variables\n",
    "\n",
    "* In Python everything is an object !\n",
    "\n",
    "* There is a difference between variables and the objects associated with those variables (see e.g. [Variables vs Objects](https://www.practicaldatascience.org/notebooks/PDS_not_yet_in_coursera/20_programming_concepts/vars_v_objects.html))\n",
    "\n",
    "* Variables point to objects rather than *being* the objects\n",
    "\n",
    "* Some variables are immutable (float, int, string, tuple, etc.) and some are mutable (list, numpy arrays, etc.)\n",
    "\n",
    "* The 1st character must be _ or a letter, then you can use letters, numbers or _\n",
    "\n",
    "* Some variable names are *reserved* in Python (e.g. class or type) and should be avoided\n"
   ]
  },
  {
   "cell_type": "code",
   "execution_count": 3,
   "metadata": {},
   "outputs": [
    {
     "data": {
      "text/plain": [
       "[1, 2, 3, 4]"
      ]
     },
     "execution_count": 3,
     "metadata": {},
     "output_type": "execute_result"
    }
   ],
   "source": [
    "# Make a new list\n",
    "x = [1, 2, 3]\n",
    "# Make new var y, and assign it x. \n",
    "y = x\n",
    "# Add to the end of the list\n",
    "x.append(4)\n",
    "# We see this new addition is now at end of x\n",
    "x"
   ]
  },
  {
   "cell_type": "code",
   "execution_count": 4,
   "metadata": {},
   "outputs": [
    {
     "data": {
      "text/plain": [
       "[1, 2, 3, 4]"
      ]
     },
     "execution_count": 4,
     "metadata": {},
     "output_type": "execute_result"
    }
   ],
   "source": [
    "# But look! It's also at the end of y!\n",
    "# That's because both variables are actually pointing to the same object in memory (\"in the warehouse\"),\n",
    "# so when you appended something to x, you changed the underlying object. And\n",
    "# since y was also pointed at that same object, when you next call y, it\n",
    "# \"sees\" those changes to the underlying list.\n",
    "y"
   ]
  },
  {
   "cell_type": "markdown",
   "metadata": {},
   "source": [
    "![](../img/objects_1.png)"
   ]
  },
  {
   "cell_type": "code",
   "execution_count": 2,
   "metadata": {},
   "outputs": [
    {
     "name": "stdout",
     "output_type": "stream",
     "text": [
      "[1, 2, 3]\n",
      "[1, 2, 3, 4]\n"
     ]
    }
   ],
   "source": [
    "x = [1, 2, 3]\n",
    "y = x\n",
    "y_copy = x.copy()\n",
    "x.append(4)\n",
    "print(y)\n",
    "print(y_copy)\n"
   ]
  },
  {
   "cell_type": "markdown",
   "metadata": {},
   "source": [
    "![](../img/objects_2.png)"
   ]
  },
  {
   "attachments": {},
   "cell_type": "markdown",
   "metadata": {},
   "source": [
    "## Data type\n",
    "\n",
    "* Data in Python is *dynamically typed* and that data type can change.\n",
    "\n",
    "* The basic types are *integers*, *floats*, *complex numbers*, *strings*, *booleans*."
   ]
  },
  {
   "cell_type": "code",
   "execution_count": 71,
   "metadata": {},
   "outputs": [
    {
     "name": "stdout",
     "output_type": "stream",
     "text": [
      "2.2222222222222223\n",
      "<class 'int'>\n",
      "<class 'str'>\n"
     ]
    }
   ],
   "source": [
    "# Floats are values with decimal values\n",
    "# Note that they are accurate to about 16 digits (double precision by default)\n",
    "f1 = 1.1111111111111111\n",
    "f2 = 1.1111111111111111\n",
    "f3 = f1 + f2\n",
    "print(f3)\n",
    "\n",
    "# Integers\n",
    "i1 = 3\n",
    "\n",
    "# Complex numbers\n",
    "c = 5 + 6j\n",
    "\n",
    "# Booleans are either True or False\n",
    "b = True\n",
    "\n",
    "# Strings are surrounded by ' or \"\n",
    "s = \"Salut c'est cool\"\n",
    "\n",
    "# Get the type\n",
    "print(type(10))\n",
    "print(type(s))"
   ]
  },
  {
   "attachments": {},
   "cell_type": "markdown",
   "metadata": {},
   "source": [
    "## Output\n",
    "\n",
    "* `print` function is used to print outputs in a script.\n",
    "\n",
    "* In a Jupyter notebook, you can print a variable if you write it at the end of a cell"
   ]
  },
  {
   "cell_type": "code",
   "execution_count": 58,
   "metadata": {},
   "outputs": [
    {
     "name": "stdout",
     "output_type": "stream",
     "text": [
      "10 Hello\n"
     ]
    },
    {
     "data": {
      "text/plain": [
       "10"
      ]
     },
     "execution_count": 58,
     "metadata": {},
     "output_type": "execute_result"
    }
   ],
   "source": [
    "a = 10\n",
    "b = \"Hello\"\n",
    "\n",
    "print(a, b)\n",
    "\n",
    "a"
   ]
  },
  {
   "attachments": {},
   "cell_type": "markdown",
   "metadata": {},
   "source": [
    "## Math\n",
    "\n",
    "* By default you can perform basic math operations\n",
    "\n",
    "* For more advanced math functions, you have to import specific modules (e.g. `math`, `numpy`, `scipy`)"
   ]
  },
  {
   "cell_type": "code",
   "execution_count": 57,
   "metadata": {},
   "outputs": [
    {
     "name": "stdout",
     "output_type": "stream",
     "text": [
      "7\n",
      "3\n",
      "10\n",
      "2.5\n",
      "1\n",
      "25\n",
      "2\n"
     ]
    }
   ],
   "source": [
    "# Basic operations\n",
    "print(5 + 2)\n",
    "print(5 - 2)\n",
    "print(5 * 2)\n",
    "print(5 / 2)    # Division\n",
    "print(5 % 2)    # Modulus\n",
    "print(5 ** 2)    # Exponent\n",
    "print(5 // 2)    # Floor division\n"
   ]
  },
  {
   "cell_type": "code",
   "execution_count": 6,
   "metadata": {},
   "outputs": [
    {
     "name": "stdout",
     "output_type": "stream",
     "text": [
      "1.0\n"
     ]
    }
   ],
   "source": [
    "# Math functions with the math module\n",
    "import math\n",
    "\n",
    "print(math.sin(math.pi / 2))"
   ]
  },
  {
   "attachments": {},
   "cell_type": "markdown",
   "metadata": {},
   "source": [
    "## Lists and tuples\n",
    "\n",
    "* Lists are used to store multiple items (of varying data types or even functions) in a single variable. They are written in [].\n",
    "\n",
    "* Tuples are just like lists except they are **immutable** while lists can be changed, modified or manipulated. They are written in ().\n"
   ]
  },
  {
   "cell_type": "code",
   "execution_count": 27,
   "metadata": {},
   "outputs": [
    {
     "name": "stdout",
     "output_type": "stream",
     "text": [
      "[1, 3.14, 'Hello', True]\n",
      "('abc', 3.14, 'True', [1, 3.14, 'Hello', True])\n",
      "4\n"
     ]
    }
   ],
   "source": [
    "# Creation\n",
    "l1 = [1, 3.14, \"Hello\", True]\n",
    "print(l1)\n",
    "\n",
    "t1 = ('abc', 3.14, 'True', l1)\n",
    "print(t1)\n",
    "\n",
    "# Get length\n",
    "print(len(l1))"
   ]
  },
  {
   "cell_type": "code",
   "execution_count": 38,
   "metadata": {},
   "outputs": [
    {
     "name": "stdout",
     "output_type": "stream",
     "text": [
      "a\n",
      "f\n",
      "d\n",
      "['b', 'c']\n",
      "['a', 'b', 'c', 'd']\n",
      "['d', 'e', 'f']\n",
      "['b', 'd', 'f']\n",
      "['f', 'e', 'd', 'c', 'b', 'a']\n"
     ]
    }
   ],
   "source": [
    "# Indexing\n",
    "letters = ['a', 'b', 'c', 'd', 'e', 'f']\n",
    "print(letters[0]) # first element (starts at 0)\n",
    "print(letters[-1]) # last element\n",
    "print(letters[-3]) # from the last\n",
    "print(letters[1:3]) # from the 2nd (index 1 included) to the 3rd element (index 3 excluded)\n",
    "print(letters[:-2]) # from the 1st to the 3rd last element\n",
    "print(letters[3:]) # from the 4th element to the last one\n",
    "print(letters[1::2]) # from the 2nd to the last element every two elements\n",
    "print(letters[::-1]) # reverse"
   ]
  },
  {
   "cell_type": "code",
   "execution_count": 55,
   "metadata": {},
   "outputs": [
    {
     "name": "stdout",
     "output_type": "stream",
     "text": [
      "[1, 3.14, 'Hello', True]\n",
      "[2, 3.14, 'Hello', True]\n",
      "[2, 3.14, 'Hello', True, 'World', 5]\n",
      "[2, 3.14, 'Hello', True, 'World', 5, 51, 52, 53]\n",
      "[2, 3.14, 'Hello', True, 'World', 5, 51, 52, 53, [1, 2, 3]]\n",
      "[0, 2, 3.14, 'Hello', True, 'World', 5, 51, 52, 53, [1, 2, 3]]\n",
      "[0, 2, 3.14, 'Hello', True, 5, 51, 52, 53, [1, 2, 3]]\n",
      "[0, 2, 3.14, 'Hello', True, 5, 51, 52, 53]\n"
     ]
    }
   ],
   "source": [
    "l1 = [1, 3.14, \"Hello\", True]\n",
    "print(l1)\n",
    "\n",
    "# Change value\n",
    "l1[0] = 2\n",
    "print(l1)\n",
    "\n",
    "# Add to end\n",
    "l1 = l1 + [\"World\", 5]\n",
    "print(l1)\n",
    "\n",
    "l1.extend([51, 52, 53])\n",
    "print(l1)\n",
    "\n",
    "l1.append([1, 2, 3])\n",
    "print(l1)\n",
    "\n",
    "# Add to beginning\n",
    "l1 = [0] + l1\n",
    "print(l1)\n",
    "\n",
    "# Remove a value\n",
    "l1.remove(\"World\")\n",
    "print(l1)\n",
    "\n",
    "# Remove at index\n",
    "l1.pop(-1)\n",
    "print(l1)"
   ]
  },
  {
   "attachments": {},
   "cell_type": "markdown",
   "metadata": {},
   "source": [
    "## Dictionnaries\n",
    "\n",
    "* Dictionaries are lists of **key / value pairs**. Keys and values can use any data type. They are written in {}.\n",
    "\n",
    "* It's not ordered and duplicate keys aren't allowed.\n"
   ]
  },
  {
   "cell_type": "code",
   "execution_count": 68,
   "metadata": {},
   "outputs": [
    {
     "name": "stdout",
     "output_type": "stream",
     "text": [
      "{'Apollo': 'Music', 'Dyonisos': 'Wine', 'Ares': 'War'}\n",
      "War\n",
      "{'Apollo': 'Music', 'Dyonisos': 'Wine', 'Ares': 'War', 'Hephaistus': 'Fire'}\n",
      "{'Apollo': 'Musis and poetry', 'Dyonisos': 'Wine', 'Ares': 'War', 'Hephaistus': 'Fire'}\n",
      "{'Apollo': 'Musis and poetry', 'Dyonisos': 'Wine', 'Hephaistus': 'Fire'}\n"
     ]
    }
   ],
   "source": [
    "# Creation\n",
    "gods = {\n",
    "    \"Apollo\": \"Music\",\n",
    "    \"Dyonisos\": \"Wine\",\n",
    "    \"Ares\": \"War\"\n",
    "}\n",
    "print(gods)\n",
    "\n",
    "# Get value by key\n",
    "print(gods[\"Ares\"])\n",
    "\n",
    "# Add a key/value\n",
    "gods[\"Hephaistus\"] = \"Fire\"\n",
    "print(gods)\n",
    "\n",
    "# Change a value\n",
    "gods[\"Apollo\"] = \"Music and poetry\"\n",
    "print(gods)\n",
    "\n",
    "# Delete a key\n",
    "del gods[\"Ares\"]\n",
    "print(gods)"
   ]
  },
  {
   "cell_type": "code",
   "execution_count": 70,
   "metadata": {},
   "outputs": [
    {
     "name": "stdout",
     "output_type": "stream",
     "text": [
      "['Apollo', 'Dyonisos', 'Hephaistus']\n",
      "['Musis and poetry', 'Wine', 'Fire']\n",
      "False\n"
     ]
    }
   ],
   "source": [
    "# Get list of keys and values\n",
    "print(list(gods.keys()))\n",
    "print(list(gods.values()))\n",
    "\n",
    "# Search for a key\n",
    "print(\"Zeus\" in gods)"
   ]
  },
  {
   "attachments": {},
   "cell_type": "markdown",
   "metadata": {},
   "source": [
    "## Strings\n",
    "\n",
    "* A string in Python is a single character or a collection of characters\n",
    "\n",
    "* Many functions to manipulate strings"
   ]
  },
  {
   "cell_type": "code",
   "execution_count": 119,
   "metadata": {},
   "outputs": [
    {
     "name": "stdout",
     "output_type": "stream",
     "text": [
      "Hello\n",
      "Hello You\n",
      "9\n",
      "H\n",
      "uoY olleH\n",
      "Goodbye You\n",
      "True\n",
      "Some/Words\n",
      "['Goodbye', 'You']\n",
      "goodbye you\n",
      "GOODBYE YOU\n",
      "a = 3.1415\n",
      "a = 3.141500\n",
      "a = 3.14\n",
      "a = 3.1415\n"
     ]
    }
   ],
   "source": [
    "s1 = \"Hello\"\n",
    "print(s1)\n",
    "\n",
    "# Combine strings with +\n",
    "s2 = \" You\"\n",
    "s = s1 + s2\n",
    "print(s)\n",
    "\n",
    "# Get string length\n",
    "print(len(s))\n",
    "\n",
    "# Indexing (similar to lists)\n",
    "print(s[0])\n",
    "print(s[::-1])\n",
    "\n",
    "# Change value\n",
    "# s[0] = \"h\" # strings are immutable !\n",
    "s = s.replace(\"Hello\", 'Goodbye')\n",
    "print(s)\n",
    "\n",
    "# Test if string in string\n",
    "print(\"You\" in s)\n",
    "\n",
    "# Convert a list into a string and separate with /\n",
    "print(\"/\".join([\"Some\", \"Words\"]))\n",
    "\n",
    "# Convert string into a list with a defined separator or delimiter (space here)\n",
    "print(s.split(\" \"))\n",
    "\n",
    "# To lower and upper case\n",
    "print(s.lower())\n",
    "print(s.upper())\n",
    "\n",
    "# String formatting (various ways)\n",
    "a = 3.1415\n",
    "print(\"a = \" + str(a))  \n",
    "print(\"%s %f\" %  ('a =', a))\n",
    "print(\"a = {:.2f}\".format(a)) # New style\n",
    "print(f\"a = {a}\")\n"
   ]
  },
  {
   "cell_type": "markdown",
   "metadata": {},
   "source": [
    "## Booleans\n",
    "\n",
    "* Logical operation are `not` `and` and `or`"
   ]
  },
  {
   "cell_type": "code",
   "execution_count": 106,
   "metadata": {},
   "outputs": [
    {
     "name": "stdout",
     "output_type": "stream",
     "text": [
      "True\n",
      "False\n",
      "True\n"
     ]
    }
   ],
   "source": [
    "a = 6\n",
    "b = 7\n",
    "c = 42\n",
    "print(a == 6)\n",
    "print(a == 7)\n",
    "print(a == 6 and b == 7 and not c==43)"
   ]
  },
  {
   "attachments": {},
   "cell_type": "markdown",
   "metadata": {},
   "source": [
    "## Conditionals and loops\n",
    "\n",
    "* Blocks are delimited by *indentation* (the standard is 4 spaces)\n",
    "\n",
    "* `:` at the end of the statement\n",
    "\n",
    "* No other characters at the end of the block "
   ]
  },
  {
   "cell_type": "markdown",
   "metadata": {},
   "source": [
    "### If/elif/else\n",
    "\n",
    "* Execute different code depending on conditions\n",
    "\n",
    "* Comparison Operators : `<` `>` `<=` `>=` `==` `!=`"
   ]
  },
  {
   "cell_type": "code",
   "execution_count": 105,
   "metadata": {},
   "outputs": [
    {
     "name": "stdout",
     "output_type": "stream",
     "text": [
      "You can't drive\n",
      "Stay Home\n",
      "Can vote? False\n"
     ]
    }
   ],
   "source": [
    "age = 4\n",
    "\n",
    "if age > 21:\n",
    "    print(\"You can drive a tractor trailer\")\n",
    "elif age >= 16:\n",
    "    print(\"You can drive a car\")\n",
    "else:\n",
    "    print(\"You can't drive\")\n",
    "\n",
    "# Make more complex conditionals with logical operators\n",
    "if age < 5:\n",
    "    print(\"Stay Home\")\n",
    "elif (age >= 5) and (age <= 6):\n",
    "    print(\"Kindergarten\")\n",
    "elif (age > 6) and (age <= 17):\n",
    "    print(\"Grade %d\", (age - 5))\n",
    "else:\n",
    "    print(\"College\")\n",
    "\n",
    "# Ternary operator in Python condition_true if condition else condition_false\n",
    "can_vote = True if age >= 18 else False\n",
    "print(\"Can vote?\", can_vote)"
   ]
  },
  {
   "cell_type": "markdown",
   "metadata": {},
   "source": [
    "### While loop\n",
    "\n",
    "* Execute while condition is True\n",
    "\n",
    "* `break` leaves the loop\n",
    "\n",
    "* `continue` goes to the next iteration, without executing the rest for the current iteration"
   ]
  },
  {
   "cell_type": "code",
   "execution_count": 107,
   "metadata": {},
   "outputs": [
    {
     "name": "stdout",
     "output_type": "stream",
     "text": [
      "[0, 1, 2, 3, 4]\n"
     ]
    }
   ],
   "source": [
    "count = 0\n",
    "mylist = []\n",
    "while count < 5:\n",
    "    mylist.append(count)\n",
    "    count += 1  # Same as count = count + 1\n",
    "print(mylist)"
   ]
  },
  {
   "cell_type": "code",
   "execution_count": 108,
   "metadata": {},
   "outputs": [
    {
     "name": "stdout",
     "output_type": "stream",
     "text": [
      "[1, 2, 3, 4, 6]\n"
     ]
    }
   ],
   "source": [
    "count = 0\n",
    "mylist = []\n",
    "while True:\n",
    "    count += 1\n",
    "    if count % 5 == 0:\n",
    "        continue\n",
    "    mylist.append(count)\n",
    "    if count >= 5:\n",
    "        break\n",
    "print(mylist)"
   ]
  },
  {
   "cell_type": "markdown",
   "metadata": {},
   "source": [
    "### For loop\n",
    "\n",
    "* Allows to perform an action a set number of times\n",
    "\n",
    "* Best practice: use iterators (i.e. objects that have a `__next()__` function)\n"
   ]
  },
  {
   "cell_type": "code",
   "execution_count": 110,
   "metadata": {},
   "outputs": [
    {
     "name": "stdout",
     "output_type": "stream",
     "text": [
      "[0, 1, 4, 9, 16, 25]\n"
     ]
    }
   ],
   "source": [
    "# Wrong way\n",
    "mylist = []\n",
    "\n",
    "# The list you are cycling through is stored (not good for huge lists)\n",
    "for i in [0, 1, 2, 3, 4, 5]:\n",
    "    mylist.append(i**2)\n",
    "print(mylist)"
   ]
  },
  {
   "cell_type": "code",
   "execution_count": 122,
   "metadata": {},
   "outputs": [
    {
     "name": "stdout",
     "output_type": "stream",
     "text": [
      "[0, 1, 4, 9, 16, 25]\n",
      "[0, 1, 2, 3, 4, 5]\n"
     ]
    }
   ],
   "source": [
    "# Better way\n",
    "mylist = []\n",
    "\n",
    "# With iterators, the next value is generated (not stored)\n",
    "for i in range(6):\n",
    "    mylist.append(i**2)\n",
    "print(mylist)\n",
    "\n",
    "\n",
    "print(list(range(6)))"
   ]
  },
  {
   "cell_type": "code",
   "execution_count": 114,
   "metadata": {},
   "outputs": [
    {
     "name": "stdout",
     "output_type": "stream",
     "text": [
      "[0, 1, 4, 9, 16, 25]\n",
      "[0, 1, 2, 3, 4, 5]\n"
     ]
    }
   ],
   "source": [
    "# Comprehension list\n",
    "mylist = [i**2 for i in range(6)]\n",
    "print(mylist)\n"
   ]
  },
  {
   "cell_type": "code",
   "execution_count": 117,
   "metadata": {},
   "outputs": [
    {
     "name": "stdout",
     "output_type": "stream",
     "text": [
      "1\n",
      "3.14\n",
      "Hello\n",
      "True\n"
     ]
    }
   ],
   "source": [
    "# Cycle through an already existing list (a list is iterable !)\n",
    "\n",
    "l1 = [1, 3.14, \"Hello\", True]\n",
    "for x in l1:\n",
    "    print(x)"
   ]
  },
  {
   "cell_type": "code",
   "execution_count": 118,
   "metadata": {},
   "outputs": [
    {
     "name": "stdout",
     "output_type": "stream",
     "text": [
      "1 is the element number 0\n",
      "3.14 is the element number 1\n",
      "Hello is the element number 2\n",
      "True is the element number 3\n"
     ]
    }
   ],
   "source": [
    "# If you need the index\n",
    "for ind, l in enumerate(l1):\n",
    "    print(f'{l} is the element number {ind}')"
   ]
  },
  {
   "attachments": {},
   "cell_type": "markdown",
   "metadata": {},
   "source": [
    "## Functions\n",
    "\n",
    "* Functions provide code reuse\n",
    "\n",
    "* You can return values when the function is called\n",
    "\n",
    "* You can use default argument values\n",
    "\n",
    "* Note that *global* variables are those which are not defined inside any function and have a global scope whereas local variables are those which are defined inside a function and their scope is limited to that function only\n",
    "\n",
    "* Help can be included in the function"
   ]
  },
  {
   "cell_type": "code",
   "execution_count": 123,
   "metadata": {},
   "outputs": [
    {
     "name": "stdout",
     "output_type": "stream",
     "text": [
      "This is my function\n"
     ]
    }
   ],
   "source": [
    "def my_function():\n",
    "    print(\"This is my function\")\n",
    "\n",
    "my_function()\n"
   ]
  },
  {
   "cell_type": "code",
   "execution_count": 124,
   "metadata": {},
   "outputs": [
    {
     "data": {
      "text/plain": [
       "9"
      ]
     },
     "execution_count": 124,
     "metadata": {},
     "output_type": "execute_result"
    }
   ],
   "source": [
    "def get_sum(a, b):\n",
    "    return a + b\n",
    "\n",
    "get_sum(5, 4)"
   ]
  },
  {
   "cell_type": "code",
   "execution_count": 128,
   "metadata": {},
   "outputs": [
    {
     "name": "stdout",
     "output_type": "stream",
     "text": [
      "2 9 9\n"
     ]
    }
   ],
   "source": [
    "def get_sum(a=1, b=1):\n",
    "    return a + b\n",
    "\n",
    "c = get_sum() # Use the default arguments\n",
    "d = get_sum(5, 4)\n",
    "e = get_sum(a=5, b=4) # Name the arguments for clarity\n",
    "\n",
    "print(c, d, e)"
   ]
  },
  {
   "cell_type": "code",
   "execution_count": 134,
   "metadata": {},
   "outputs": [
    {
     "name": "stdout",
     "output_type": "stream",
     "text": [
      "2\n"
     ]
    },
    {
     "data": {
      "text/plain": [
       "50"
      ]
     },
     "execution_count": 134,
     "metadata": {},
     "output_type": "execute_result"
    }
   ],
   "source": [
    "a = 10    # a is a global variable\n",
    "\n",
    "def multiply(b):\n",
    "    # b is a local variable\n",
    "    return a*b\n",
    "\n",
    "print(c)\n",
    "multiply(5)"
   ]
  },
  {
   "cell_type": "code",
   "execution_count": 143,
   "metadata": {},
   "outputs": [
    {
     "name": "stdout",
     "output_type": "stream",
     "text": [
      "Help on function add_int in module __main__:\n",
      "\n",
      "add_int(a: int, b: int) -> int\n",
      "\n"
     ]
    }
   ],
   "source": [
    "# Add the type in the funciton/arguments definition\n",
    "\n",
    "def add_int(a: int, b: int) -> int:\n",
    "    return a+b\n",
    "\n",
    "add_int(1, 2)\n",
    "\n",
    "help(add_int)"
   ]
  },
  {
   "cell_type": "code",
   "execution_count": 138,
   "metadata": {},
   "outputs": [
    {
     "name": "stdout",
     "output_type": "stream",
     "text": [
      "Help on function new_function in module __main__:\n",
      "\n",
      "new_function()\n",
      "    This function returns 0.\n",
      "\n",
      "Help on built-in function max in module builtins:\n",
      "\n",
      "max(...)\n",
      "    max(iterable, *[, default=obj, key=func]) -> value\n",
      "    max(arg1, arg2, *args, *[, key=func]) -> value\n",
      "    \n",
      "    With a single iterable argument, return its biggest item. The\n",
      "    default keyword-only argument specifies an object to return if\n",
      "    the provided iterable is empty.\n",
      "    With two or more arguments, return the largest argument.\n",
      "\n"
     ]
    }
   ],
   "source": [
    "def new_function():\n",
    "    '''\n",
    "    This function returns 0.\n",
    "    '''\n",
    "    return 0\n",
    "\n",
    "help(new_function)\n",
    "\n",
    "help(max)"
   ]
  },
  {
   "cell_type": "code",
   "execution_count": 38,
   "metadata": {},
   "outputs": [
    {
     "data": {
      "text/plain": [
       "4"
      ]
     },
     "execution_count": 38,
     "metadata": {},
     "output_type": "execute_result"
    }
   ],
   "source": [
    "# Anonymous (inline) function\n",
    "xsquared = lambda x: x**2\n",
    "\n",
    "xsquared(2)"
   ]
  },
  {
   "attachments": {},
   "cell_type": "markdown",
   "metadata": {},
   "source": [
    "## Modules and Packages\n",
    "\n",
    "* Most of the functionality in Python is provided by *modules*. \n",
    "\n",
    "* For example, the module `math` contains many standard mathematical functions.\n",
    "\n",
    "* A module can be imported using the `import` statement.\n",
    "\n",
    "* Use the dot notation to access specific functions or variables\n",
    "\n",
    "* A package is a collection of modules with a hierarchical structuring"
   ]
  },
  {
   "cell_type": "code",
   "execution_count": 145,
   "metadata": {},
   "outputs": [
    {
     "name": "stdout",
     "output_type": "stream",
     "text": [
      "1.0\n"
     ]
    }
   ],
   "source": [
    "import math\n",
    "\n",
    "x = math.cos(2*math.pi)\n",
    "print(x)"
   ]
  },
  {
   "cell_type": "code",
   "execution_count": 146,
   "metadata": {},
   "outputs": [
    {
     "name": "stdout",
     "output_type": "stream",
     "text": [
      "1.0\n"
     ]
    }
   ],
   "source": [
    "# Import all symbols (function and variables)\n",
    "from math import *\n",
    "\n",
    "x = cos(2*pi)\n",
    "print(x)"
   ]
  },
  {
   "cell_type": "code",
   "execution_count": 147,
   "metadata": {},
   "outputs": [
    {
     "name": "stdout",
     "output_type": "stream",
     "text": [
      "1.0\n"
     ]
    }
   ],
   "source": [
    "# Import selected symbols\n",
    "from math import cos, pi\n",
    "\n",
    "x = cos(2*pi)\n",
    "print(x)\n",
    "\n",
    "# This will not work\n",
    "# y = sin(2*pi)\n",
    "# print(y)"
   ]
  },
  {
   "cell_type": "code",
   "execution_count": 148,
   "metadata": {},
   "outputs": [
    {
     "name": "stdout",
     "output_type": "stream",
     "text": [
      "['__doc__', '__file__', '__loader__', '__name__', '__package__', '__spec__', 'acos', 'acosh', 'asin', 'asinh', 'atan', 'atan2', 'atanh', 'cbrt', 'ceil', 'comb', 'copysign', 'cos', 'cosh', 'degrees', 'dist', 'e', 'erf', 'erfc', 'exp', 'exp2', 'expm1', 'fabs', 'factorial', 'floor', 'fmod', 'frexp', 'fsum', 'gamma', 'gcd', 'hypot', 'inf', 'isclose', 'isfinite', 'isinf', 'isnan', 'isqrt', 'lcm', 'ldexp', 'lgamma', 'log', 'log10', 'log1p', 'log2', 'modf', 'nan', 'nextafter', 'perm', 'pi', 'pow', 'prod', 'radians', 'remainder', 'sin', 'sinh', 'sqrt', 'tan', 'tanh', 'tau', 'trunc', 'ulp']\n"
     ]
    }
   ],
   "source": [
    "import math\n",
    "\n",
    "# List the symbols of a module\n",
    "print(dir(math))"
   ]
  },
  {
   "cell_type": "code",
   "execution_count": 149,
   "metadata": {},
   "outputs": [
    {
     "name": "stdout",
     "output_type": "stream",
     "text": [
      "Help on built-in function log in module math:\n",
      "\n",
      "log(...)\n",
      "    log(x, [base=math.e])\n",
      "    Return the logarithm of x to the given base.\n",
      "    \n",
      "    If the base not specified, returns the natural logarithm (base e) of x.\n",
      "\n"
     ]
    }
   ],
   "source": [
    "# Get documentation \n",
    "help(math.log)"
   ]
  },
  {
   "attachments": {},
   "cell_type": "markdown",
   "metadata": {},
   "source": [
    "## Exeptions\n",
    "\n",
    "* When errors occur, *exceptions* are raised. It interrupts the normal program flow.\n",
    "\n",
    "* Various built-in exceptions and the possibility to create self-defined exceptions\n",
    "\n",
    "* Exeptions can be catched and handled using the following statements (see e.g. [here](https://realpython.com/python-exceptions/))\n",
    "    * `raise` allows you to throw an exception at any time\n",
    "    \n",
    "    * `assert` enables you to verify if a certain condition is met and throw an exception if it isn’t\n",
    "    \n",
    "    * In the `try` clause, all statements are executed until an exception is encountered\n",
    "    \n",
    "    * `except` is used to catch and handle the exception(s) that are encountered in the try clause\n",
    "    \n",
    "    * `else` lets you code sections that should run only when no exceptions are encountered in the try clause\n",
    "    \n",
    "    * `finally` enables you to execute sections of code that should always run, with or without any previously encountered exceptions."
   ]
  },
  {
   "cell_type": "markdown",
   "metadata": {},
   "source": [
    "### Few exception types"
   ]
  },
  {
   "cell_type": "code",
   "execution_count": 152,
   "metadata": {},
   "outputs": [
    {
     "ename": "SyntaxError",
     "evalue": "unmatched ')' (1917801778.py, line 2)",
     "output_type": "error",
     "traceback": [
      "\u001b[0;36m  Cell \u001b[0;32mIn[152], line 2\u001b[0;36m\u001b[0m\n\u001b[0;31m    print(\"Hello\"))\u001b[0m\n\u001b[0m                  ^\u001b[0m\n\u001b[0;31mSyntaxError\u001b[0m\u001b[0;31m:\u001b[0m unmatched ')'\n"
     ]
    }
   ],
   "source": [
    "# Synthax error\n",
    "print(\"Hello\"))"
   ]
  },
  {
   "cell_type": "code",
   "execution_count": 44,
   "metadata": {},
   "outputs": [
    {
     "ename": "ZeroDivisionError",
     "evalue": "division by zero",
     "output_type": "error",
     "traceback": [
      "\u001b[0;31m---------------------------------------------------------------------------\u001b[0m",
      "\u001b[0;31mZeroDivisionError\u001b[0m                         Traceback (most recent call last)",
      "\u001b[0;32m/var/folders/ln/2n2fgzf132x8mw5d1njj9hsh0000gp/T/ipykernel_40972/2102436221.py\u001b[0m in \u001b[0;36m<module>\u001b[0;34m\u001b[0m\n\u001b[1;32m      1\u001b[0m \u001b[0;31m# Zero divider error\u001b[0m\u001b[0;34m\u001b[0m\u001b[0;34m\u001b[0m\u001b[0;34m\u001b[0m\u001b[0m\n\u001b[0;32m----> 2\u001b[0;31m \u001b[0;36m10\u001b[0m\u001b[0;34m/\u001b[0m\u001b[0;36m0\u001b[0m\u001b[0;34m\u001b[0m\u001b[0;34m\u001b[0m\u001b[0m\n\u001b[0m",
      "\u001b[0;31mZeroDivisionError\u001b[0m: division by zero"
     ]
    }
   ],
   "source": [
    "# Zero divider error\n",
    "10/0"
   ]
  },
  {
   "cell_type": "code",
   "execution_count": 45,
   "metadata": {},
   "outputs": [
    {
     "ename": "NameError",
     "evalue": "name 'z' is not defined",
     "output_type": "error",
     "traceback": [
      "\u001b[0;31m---------------------------------------------------------------------------\u001b[0m",
      "\u001b[0;31mNameError\u001b[0m                                 Traceback (most recent call last)",
      "\u001b[0;32m/var/folders/ln/2n2fgzf132x8mw5d1njj9hsh0000gp/T/ipykernel_40972/2694160803.py\u001b[0m in \u001b[0;36m<module>\u001b[0;34m\u001b[0m\n\u001b[1;32m      1\u001b[0m \u001b[0;31m# Name error\u001b[0m\u001b[0;34m\u001b[0m\u001b[0;34m\u001b[0m\u001b[0;34m\u001b[0m\u001b[0m\n\u001b[0;32m----> 2\u001b[0;31m \u001b[0mprint\u001b[0m\u001b[0;34m(\u001b[0m\u001b[0mz\u001b[0m\u001b[0;34m)\u001b[0m\u001b[0;34m\u001b[0m\u001b[0;34m\u001b[0m\u001b[0m\n\u001b[0m",
      "\u001b[0;31mNameError\u001b[0m: name 'z' is not defined"
     ]
    }
   ],
   "source": [
    "# Name error\n",
    "print(z)"
   ]
  },
  {
   "cell_type": "code",
   "execution_count": 46,
   "metadata": {},
   "outputs": [
    {
     "ename": "IndentationError",
     "evalue": "expected an indented block (451610913.py, line 3)",
     "output_type": "error",
     "traceback": [
      "\u001b[0;36m  File \u001b[0;32m\"/var/folders/ln/2n2fgzf132x8mw5d1njj9hsh0000gp/T/ipykernel_40972/451610913.py\"\u001b[0;36m, line \u001b[0;32m3\u001b[0m\n\u001b[0;31m    print(i)\u001b[0m\n\u001b[0m        ^\u001b[0m\n\u001b[0;31mIndentationError\u001b[0m\u001b[0;31m:\u001b[0m expected an indented block\n"
     ]
    }
   ],
   "source": [
    "# Indentation error\n",
    "for i in [1, 2, 3]:\n",
    "print(i)"
   ]
  },
  {
   "cell_type": "code",
   "execution_count": 47,
   "metadata": {},
   "outputs": [
    {
     "ename": "FileNotFoundError",
     "evalue": "[Errno 2] No such file or directory: 'MyFile.txt'",
     "output_type": "error",
     "traceback": [
      "\u001b[0;31m---------------------------------------------------------------------------\u001b[0m",
      "\u001b[0;31mFileNotFoundError\u001b[0m                         Traceback (most recent call last)",
      "\u001b[0;32m/var/folders/ln/2n2fgzf132x8mw5d1njj9hsh0000gp/T/ipykernel_40972/1518266865.py\u001b[0m in \u001b[0;36m<module>\u001b[0;34m\u001b[0m\n\u001b[1;32m      1\u001b[0m \u001b[0;31m# IO error\u001b[0m\u001b[0;34m\u001b[0m\u001b[0;34m\u001b[0m\u001b[0;34m\u001b[0m\u001b[0m\n\u001b[0;32m----> 2\u001b[0;31m \u001b[0mfile1\u001b[0m \u001b[0;34m=\u001b[0m \u001b[0mopen\u001b[0m\u001b[0;34m(\u001b[0m\u001b[0;34m\"MyFile.txt\"\u001b[0m\u001b[0;34m,\u001b[0m \u001b[0;34m\"r\"\u001b[0m\u001b[0;34m)\u001b[0m\u001b[0;34m\u001b[0m\u001b[0;34m\u001b[0m\u001b[0m\n\u001b[0m",
      "\u001b[0;31mFileNotFoundError\u001b[0m: [Errno 2] No such file or directory: 'MyFile.txt'"
     ]
    }
   ],
   "source": [
    "# IO error\n",
    "file1 = open(\"MyFile.txt\", \"r\")"
   ]
  },
  {
   "cell_type": "markdown",
   "metadata": {},
   "source": [
    "### Handle exceptions"
   ]
  },
  {
   "cell_type": "code",
   "execution_count": 153,
   "metadata": {},
   "outputs": [
    {
     "ename": "Exception",
     "evalue": "x should not exceed 5. The value of x was: 10",
     "output_type": "error",
     "traceback": [
      "\u001b[0;31m---------------------------------------------------------------------------\u001b[0m",
      "\u001b[0;31mException\u001b[0m                                 Traceback (most recent call last)",
      "Cell \u001b[0;32mIn[153], line 5\u001b[0m\n\u001b[1;32m      3\u001b[0m x \u001b[39m=\u001b[39m \u001b[39m10\u001b[39m\n\u001b[1;32m      4\u001b[0m \u001b[39mif\u001b[39;00m x \u001b[39m>\u001b[39m \u001b[39m5\u001b[39m:\n\u001b[0;32m----> 5\u001b[0m     \u001b[39mraise\u001b[39;00m \u001b[39mException\u001b[39;00m(\u001b[39m'\u001b[39m\u001b[39mx should not exceed 5. The value of x was: \u001b[39m\u001b[39m{}\u001b[39;00m\u001b[39m'\u001b[39m\u001b[39m.\u001b[39mformat(x))\n",
      "\u001b[0;31mException\u001b[0m: x should not exceed 5. The value of x was: 10"
     ]
    }
   ],
   "source": [
    "# Raise an exception\n",
    "\n",
    "x = 10\n",
    "if x > 5:\n",
    "    raise Exception('x should not exceed 5. The value of x was: {}'.format(x))"
   ]
  },
  {
   "cell_type": "code",
   "execution_count": 165,
   "metadata": {},
   "outputs": [
    {
     "ename": "AssertionError",
     "evalue": "This code runs on Linux only.",
     "output_type": "error",
     "traceback": [
      "\u001b[0;31m---------------------------------------------------------------------------\u001b[0m",
      "\u001b[0;31mAssertionError\u001b[0m                            Traceback (most recent call last)",
      "Cell \u001b[0;32mIn[165], line 4\u001b[0m\n\u001b[1;32m      1\u001b[0m \u001b[39m# Assert that a condition is met\u001b[39;00m\n\u001b[1;32m      3\u001b[0m \u001b[39mimport\u001b[39;00m \u001b[39msys\u001b[39;00m\n\u001b[0;32m----> 4\u001b[0m \u001b[39massert\u001b[39;00m(\u001b[39m'\u001b[39m\u001b[39mlinux\u001b[39m\u001b[39m'\u001b[39m \u001b[39min\u001b[39;00m sys\u001b[39m.\u001b[39mplatform), \u001b[39m\"\u001b[39m\u001b[39mThis code runs on Linux only.\u001b[39m\u001b[39m\"\u001b[39m\n",
      "\u001b[0;31mAssertionError\u001b[0m: This code runs on Linux only."
     ]
    }
   ],
   "source": [
    "# Assert that a condition is met\n",
    "\n",
    "import sys\n",
    "assert('linux' in sys.platform), \"This code runs on Linux only.\""
   ]
  },
  {
   "cell_type": "code",
   "execution_count": 164,
   "metadata": {},
   "outputs": [],
   "source": [
    "# Handling exepction with try/except block\n",
    "\n",
    "def linux_interaction():\n",
    "    assert('linux' in sys.platform), \"Function can only run on Linux systems.\"\n",
    "    print('Doing something.')\n",
    "\n",
    "try:\n",
    "    # Run this code\n",
    "    linux_interaction()\n",
    "except:\n",
    "    # Excecute this code when there is an exception\n",
    "    pass\n"
   ]
  },
  {
   "cell_type": "code",
   "execution_count": 161,
   "metadata": {},
   "outputs": [
    {
     "name": "stdout",
     "output_type": "stream",
     "text": [
      "Linux function was not executed\n"
     ]
    }
   ],
   "source": [
    "# To see if an exception occurs, print a message\n",
    "\n",
    "try:\n",
    "    linux_interaction()\n",
    "except:\n",
    "    print('Linux function was not executed')"
   ]
  },
  {
   "cell_type": "code",
   "execution_count": 166,
   "metadata": {},
   "outputs": [
    {
     "name": "stdout",
     "output_type": "stream",
     "text": [
      "Function can only run on Linux systems.\n",
      "The linux_interaction() function was not executed\n"
     ]
    }
   ],
   "source": [
    "# To catch the exception and print it\n",
    "\n",
    "try:\n",
    "    linux_interaction()\n",
    "except AssertionError as error:\n",
    "    print(error)\n",
    "    print('The linux_interaction() function was not executed')"
   ]
  },
  {
   "cell_type": "markdown",
   "metadata": {},
   "source": [
    "### Exercice on expections"
   ]
  },
  {
   "cell_type": "code",
   "execution_count": 167,
   "metadata": {},
   "outputs": [
    {
     "name": "stdout",
     "output_type": "stream",
     "text": [
      "Function can only run on Linux systems.\n",
      "Cleaning up, irrespective of any exceptions.\n"
     ]
    }
   ],
   "source": [
    "try:    # Run this code\n",
    "    linux_interaction()\n",
    "except AssertionError as error:    # Execute this code when there is an exception   \n",
    "    print(error)\n",
    "else:    # No exception? Rnu this code\n",
    "    try:\n",
    "        with open('file.log') as file:\n",
    "            read_data = file.read()\n",
    "    except FileNotFoundError as fnf_error:\n",
    "        print(fnf_error)\n",
    "finally:    # Always run this code\n",
    "    print('Cleaning up, irrespective of any exceptions.')"
   ]
  },
  {
   "cell_type": "markdown",
   "metadata": {},
   "source": []
  }
 ],
 "metadata": {
  "kernelspec": {
   "display_name": "base",
   "language": "python",
   "name": "python3"
  },
  "language_info": {
   "codemirror_mode": {
    "name": "ipython",
    "version": 3
   },
   "file_extension": ".py",
   "mimetype": "text/x-python",
   "name": "python",
   "nbconvert_exporter": "python",
   "pygments_lexer": "ipython3",
   "version": "3.11.3"
  },
  "orig_nbformat": 4,
  "vscode": {
   "interpreter": {
    "hash": "cbd3dcfc9100d2a97e4a1043d3fd5424836ec409da68abdd3f2a66e51882520c"
   }
  }
 },
 "nbformat": 4,
 "nbformat_minor": 2
}
