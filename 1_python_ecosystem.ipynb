{
 "cells": [
  {
   "attachments": {},
   "cell_type": "markdown",
   "metadata": {},
   "source": [
    "# Python ecosystem\n",
    "\n",
    "## Introduction\n",
    "\n",
    "* Python *code* is read and executed via a Python *interpreter* or *shell* (`python` or `Ipython`)\n",
    "\n",
    "* Python files end with the extension `.py` and can be edited with a text editor.\n",
    "\n",
    "* To run the file `my_program.py`, use `$ python my_program.py` in a Terminal. \n",
    "\n",
    "<img src='../img/my_program.png' width='700' />\n",
    "\n",
    "* Python code can be edited and run using IDEs (Interactive Developement Environnements) like [PyCharm](https://www.jetbrains.com/pycharm/), [VSCode](https://vscode.github.com), [Jupyter](https://jupyter.org) (this file is actually a Jupyter notebook opened in VS code ;), etc.\n",
    "\n",
    "* Python code can be managed using version control system (e.g. [git](https://git-scm.com)). Online repositories are available on e.g. [Github](https://github.com)."
   ]
  },
  {
   "attachments": {},
   "cell_type": "markdown",
   "metadata": {},
   "source": [
    "## Conda – Environments and packages manager\n",
    "\n",
    "[Conda](https://docs.conda.io/projects/conda/en/stable/#) is a package and environment management system. Conda quickly installs, runs, and updates packages and their dependencies (Python and module versions). Conda easily creates, saves, loads, and switches between environments on your local computer. \n",
    "\n",
    "You don't have to use it compulsory but it's recommended if you want to:\n",
    "* Make project-specific environments and avoid to mess with your OS Python version (Linux/MacOS)\n",
    "\n",
    "* Use different versions of Python depending on the module requirements\n",
    "\n",
    "* Improve the reproducibility of your codes\n",
    "  \n",
    "### Installation\n",
    "There are two options:\n",
    "* [Anaconda](https://www.anaconda.com) (recommended if you are not yet familiar with command lines ;) – A huge package that comes with a bunch of useful Python scientific modules and IDEs (e.g. Spyder, Jupyter). \n",
    "\n",
    "* [Miniconda](https://docs.conda.io/en/latest/miniconda.html) – Minimal conda installation. You have to install what you need by hand.    \n",
    "\n",
    "### Create and activate an environment\n",
    "```\n",
    "conda create -n my_env python=3.8\n",
    "conda activate my_env\n",
    "```\n",
    "\n",
    "### Package management\n",
    "```\n",
    "conda install numpy matplotlib jupyter\n",
    "```\n",
    "\n",
    "If packages are not available in conda, you can use the `pip` manager\n",
    "```\n",
    "pip install pypot\n",
    "```\n",
    "\n",
    "Please check the [Getting started with conda](https://docs.conda.io/projects/conda/en/latest/user-guide/getting-started.html) for more info."
   ]
  },
  {
   "attachments": {},
   "cell_type": "markdown",
   "metadata": {},
   "source": [
    "## Interactive development environements (IDE)"
   ]
  },
  {
   "attachments": {},
   "cell_type": "markdown",
   "metadata": {},
   "source": [
    "### Jupyter notebooks\n",
    "\n",
    "* The Jupyter notebook is a single document where you can run code, display the output, and also add explanations, formulas, charts, and make your work more transparent, understandable, repeatable, and shareable.\n",
    "\n",
    "* The Jupyter notebook extension is `.ipynb`.\n",
    "\n",
    "* You can run it in a web browser or in an IDE (e.g. VS Code).\n",
    "\n",
    "* It's organized along *cells*.\n",
    "\n",
    "* The text cell (like this one) usually use the Markdown [basic synthax](https://www.markdownguide.org/basic-syntax/).\n",
    "\n",
    "* Jupyter notebook can be exported in HTML or pdf formats."
   ]
  },
  {
   "cell_type": "code",
   "execution_count": null,
   "metadata": {},
   "outputs": [],
   "source": [
    "# This is a code cell.\n",
    "# Run it using Shift+Enter, you will get the output.\n",
    "\n",
    "print(\"Hello !\")"
   ]
  },
  {
   "attachments": {},
   "cell_type": "markdown",
   "metadata": {},
   "source": [
    "### Visual Studio Code \n",
    "\n",
    "* [VS Code](https://code.visualstudio.com) is a multilanguage source-code editor\n",
    "\n",
    "* You can change the theme, preferences, and install extensions that add functionality\n",
    "\n",
    "* It includes various developper tools (debugging, code highlighting, completion, embedded Git, etc.)\n",
    "\n",
    "* VS Code is a popular IDE for Python programming "
   ]
  },
  {
   "cell_type": "markdown",
   "metadata": {},
   "source": [
    "\n",
    "## Markup languages\n",
    "\n",
    "A [markup language](https://en.wikipedia.org/wiki/Markup_language) is a text-encoding system consisting of a set of symbols inserted in a text document to control its structure, formatting, or the relationship between its parts (e.g. HTML, LaTeX).\n",
    "\n",
    "### Markdown\n",
    "* [Markdown](https://www.markdownguide.org) is a lightweight markup language with basic synthax for creating formatted text (i.e. with headings, lists, tables, math, etc.).\n",
    "\n",
    "* Widely used for collaborative development, documentation page and README files.\n",
    "\n",
    "* Preferred language for Jupyter notebooks text cells (like this one ;)\n",
    " \n",
    "### reStructuredText\n",
    "* [reStructuredText](https://www.writethedocs.org/guide/writing/reStructuredText/) is similar to Markdown and mainly used for creating Python documentation"
   ]
  },
  {
   "cell_type": "markdown",
   "metadata": {},
   "source": [
    "## Installation workflow for Windows 10\n",
    "\n",
    "1. Install [Anaconda](https://www.anaconda.com) (use the default settings)\n",
    "\n",
    "2. Install [VS Code](https://code.visualstudio.com) (use the default settings)\n",
    "\n",
    "3. Configure VS Code for Python and Jupyter notebooks using the corresponding extensions (see [Getting started with Python in VS Code](https://code.visualstudio.com/docs/python/python-tutorial), [Jupyter notebooks in VS Code](https://code.visualstudio.com/docs/datascience/jupyter-notebooks))\n",
    "\n",
    "4. Select a Python interpreter (by default the one from the base Conda environment)\n",
    "\n",
    "5. Use the [integrated terminal in VS Code](https://code.visualstudio.com/docs/terminal/basics) and change the setting to make Command prompt (cmd) rather than Powershell the default terminal. To make `conda` available in cmd, you have to set the `PATH` environement variable. To do so, type in the cmd prompt: `set PATH=%PATH%;C:\\Users\\%USERNAME%\\Anaconda3;C:\\Users\\%USERNAME%\\Anaconda3` (change the path accordingly).\n",
    "\n",
    "6. Install [Git](https://git-scm.com), a free and open source distributed version control system (use VS Code as default editor and default settings)"
   ]
  },
  {
   "cell_type": "markdown",
   "metadata": {},
   "source": [
    "\n",
    "## Practical work\n",
    "\n",
    "1. Create a project-specific Conda environnement and execute a simple Python script (e.g. print \"Hello world\") using VS Code only (i.e. using an integrated Terminal).\n",
    "\n",
    "2. Run the same in a Jupyter notebook using the Conda environment previously created\n",
    "\n",
    "3. Create the following tree in your working directory\n",
    "\n",
    "```tree\n",
    ".\n",
    "|── data\n",
    "|—— exercices\n",
    "|── img\n",
    "|── notebooks\n",
    "|   |── 1_python_ecosystem.ipynb\n",
    "|   |── 2_python_basics.ipynb\n",
    "|   |—— ...\n",
    "|—— README.md\n",
    "```"
   ]
  },
  {
   "cell_type": "markdown",
   "metadata": {},
   "source": []
  }
 ],
 "metadata": {
  "kernelspec": {
   "display_name": "optiq",
   "language": "python",
   "name": "python3"
  },
  "language_info": {
   "codemirror_mode": {
    "name": "ipython",
    "version": 3
   },
   "file_extension": ".py",
   "mimetype": "text/x-python",
   "name": "python",
   "nbconvert_exporter": "python",
   "pygments_lexer": "ipython3",
   "version": "3.11.3"
  },
  "orig_nbformat": 4
 },
 "nbformat": 4,
 "nbformat_minor": 2
}
