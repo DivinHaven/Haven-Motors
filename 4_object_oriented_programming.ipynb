{
 "cells": [
  {
   "attachments": {},
   "cell_type": "markdown",
   "metadata": {},
   "source": [
    "# Object-oriented programming\n",
    "\n",
    "## Introduction\n",
    "\n",
    "* Object-oriented programming (OOP) is a method of organizing a program in Python\n",
    "* Clear and efficient data structure, reusable codes \n",
    "* Properties and behaviors are bundled into individual objects\n",
    "* An object contains data (i.e. the raw material at each step on an assembly line) and behavior (i.e. the action each assembly line component performs).\n",
    "* In Python, everything is an object (strings, lists, integers, numpy arrays, functions, etc.), you've already used many objects !\n",
    "* Two steps to create your own object: \n",
    "  * Describe your object (a blueprint, a recipe)\n",
    "  * Use this description to actually create the object \n",
    "\n",
    "A useful ressource: [Realpython](https://realpython.com/python3-object-oriented-programming/)\n"
   ]
  },
  {
   "cell_type": "markdown",
   "metadata": {},
   "source": [
    "## Classes\n",
    "* A **class** is a blueprint for how something should be defined. It doesn’t actually contain any data.\n",
    "* An **instance** is an object that is built from a class and contains real data.\n",
    "* A class contains **attributes** (variables attached to the object) and **methods** (functions attached to the object)"
   ]
  },
  {
   "cell_type": "code",
   "execution_count": 1,
   "metadata": {},
   "outputs": [
    {
     "name": "stdout",
     "output_type": "stream",
     "text": [
      "float64\n",
      "10.0\n"
     ]
    }
   ],
   "source": [
    "import numpy as np\n",
    "\n",
    "a = np.linspace(0, 10, 10)    # a is a Numpy array object\n",
    "print(a.dtype)   # Attribute of the object a\n",
    "print(a.max())    # Method of the object a"
   ]
  },
  {
   "cell_type": "markdown",
   "metadata": {},
   "source": [
    "### Creation"
   ]
  },
  {
   "cell_type": "code",
   "execution_count": 2,
   "metadata": {},
   "outputs": [],
   "source": [
    "# Define the object \n",
    "class ObjectDescription:\n",
    "    pass"
   ]
  },
  {
   "cell_type": "code",
   "execution_count": 3,
   "metadata": {},
   "outputs": [
    {
     "name": "stdout",
     "output_type": "stream",
     "text": [
      "<__main__.ObjectDescription object at 0x11103c750>\n"
     ]
    }
   ],
   "source": [
    "# Create the object\n",
    "new_object = ObjectDescription()    # new_object is an instance OjectDescription\n",
    "print(new_object)"
   ]
  },
  {
   "cell_type": "markdown",
   "metadata": {},
   "source": [
    "### Methods\n",
    "\n",
    "* The first argument of a method is the current object (i.e. current instance)"
   ]
  },
  {
   "cell_type": "code",
   "execution_count": 4,
   "metadata": {},
   "outputs": [],
   "source": [
    "class ObjectDescription:\n",
    "    def a_method(current_object):    # a function in a class is a method\n",
    "        return current_object"
   ]
  },
  {
   "cell_type": "code",
   "execution_count": 5,
   "metadata": {},
   "outputs": [
    {
     "name": "stdout",
     "output_type": "stream",
     "text": [
      "<__main__.ObjectDescription object at 0x1110bc490>\n"
     ]
    }
   ],
   "source": [
    "new_object = ObjectDescription()\n",
    "print(new_object)"
   ]
  },
  {
   "cell_type": "code",
   "execution_count": 6,
   "metadata": {},
   "outputs": [
    {
     "data": {
      "text/plain": [
       "<__main__.ObjectDescription at 0x1110bc490>"
      ]
     },
     "execution_count": 6,
     "metadata": {},
     "output_type": "execute_result"
    }
   ],
   "source": [
    "new_object.a_method()    # Similar to ObjectDescription.a_method(new_object)"
   ]
  },
  {
   "cell_type": "markdown",
   "metadata": {},
   "source": [
    "### Convention\n",
    "\n",
    "* Write a class without space and with capitals: `NameOfTheClass`\n",
    "* Write methods (and attributes) with underscores: `name_of_the_method`\n",
    "* The current instance is named `self`\n",
    "* Dunder methods (into double underscore like `__init()__`, `__str()__`, etc.) are automatically called under certain conditions (depending on the name)"
   ]
  },
  {
   "cell_type": "markdown",
   "metadata": {},
   "source": [
    "### Attributes\n",
    "* Same as methods but for variables\n",
    "* Can be dynamically changed inside or outside the object"
   ]
  },
  {
   "cell_type": "code",
   "execution_count": 7,
   "metadata": {},
   "outputs": [],
   "source": [
    "class ObjectDescription:\n",
    "    def display(self):    # self is the current object, we have access to its attributes\n",
    "        print(\"The current value is {}\".format(self.an_attribute))\n",
    " \n",
    "    def modify(self, value):\n",
    "        self.an_attribute = value * 2    # Attributes can be modified inside the object\n"
   ]
  },
  {
   "cell_type": "code",
   "execution_count": 8,
   "metadata": {},
   "outputs": [
    {
     "ename": "AttributeError",
     "evalue": "'ObjectDescription' object has no attribute 'an_attribute'",
     "output_type": "error",
     "traceback": [
      "\u001b[0;31m---------------------------------------------------------------------------\u001b[0m",
      "\u001b[0;31mAttributeError\u001b[0m                            Traceback (most recent call last)",
      "Cell \u001b[0;32mIn[8], line 2\u001b[0m\n\u001b[1;32m      1\u001b[0m new_object \u001b[38;5;241m=\u001b[39m ObjectDescription()\n\u001b[0;32m----> 2\u001b[0m new_object\u001b[38;5;241m.\u001b[39mdisplay()\n",
      "Cell \u001b[0;32mIn[7], line 3\u001b[0m, in \u001b[0;36mObjectDescription.display\u001b[0;34m(self)\u001b[0m\n\u001b[1;32m      2\u001b[0m \u001b[38;5;28;01mdef\u001b[39;00m \u001b[38;5;21mdisplay\u001b[39m(\u001b[38;5;28mself\u001b[39m):    \u001b[38;5;66;03m# self is the current object, we have access to its attributes\u001b[39;00m\n\u001b[0;32m----> 3\u001b[0m     \u001b[38;5;28mprint\u001b[39m(\u001b[38;5;124m\"\u001b[39m\u001b[38;5;124mThe current value is \u001b[39m\u001b[38;5;132;01m{}\u001b[39;00m\u001b[38;5;124m\"\u001b[39m\u001b[38;5;241m.\u001b[39mformat(\u001b[38;5;28mself\u001b[39m\u001b[38;5;241m.\u001b[39man_attribute))\n",
      "\u001b[0;31mAttributeError\u001b[0m: 'ObjectDescription' object has no attribute 'an_attribute'"
     ]
    }
   ],
   "source": [
    "new_object = ObjectDescription()\n",
    "new_object.display()    # Exeception: the attribute doesn't exist yet"
   ]
  },
  {
   "cell_type": "code",
   "execution_count": null,
   "metadata": {},
   "outputs": [],
   "source": [
    "new_object.an_attribute = 1    # Attributes can be modified outside the object\n",
    "new_object.display()"
   ]
  },
  {
   "cell_type": "code",
   "execution_count": null,
   "metadata": {},
   "outputs": [],
   "source": [
    "new_object.modify(2)\n",
    "new_object.display()"
   ]
  },
  {
   "cell_type": "markdown",
   "metadata": {},
   "source": [
    "### Initialisation\n",
    "\n",
    "* `__init()__` is a dunder method automatically called after the instanciation (i.e. object creation)\n",
    "* It's called a *constructor*\n",
    "* Arguments passed to the class are passed to `__init()__`"
   ]
  },
  {
   "cell_type": "code",
   "execution_count": 9,
   "metadata": {},
   "outputs": [],
   "source": [
    "class ObjectDescription:\n",
    "    def __init__(self):\n",
    "        print(\"Object created\")\n",
    "        self.an_attribute = 1\n",
    "\n",
    "    def display(self):\n",
    "        print(\"The current value is {}\".format(self.an_attribute))\n",
    " \n",
    "    def modify(self, value):\n",
    "        self.an_attribute = value * 2"
   ]
  },
  {
   "cell_type": "code",
   "execution_count": 10,
   "metadata": {},
   "outputs": [
    {
     "name": "stdout",
     "output_type": "stream",
     "text": [
      "Object created\n",
      "The current value is 1\n"
     ]
    }
   ],
   "source": [
    "new_object = ObjectDescription()    # __init()__ is called\n",
    "new_object.display()"
   ]
  },
  {
   "cell_type": "code",
   "execution_count": 11,
   "metadata": {},
   "outputs": [
    {
     "name": "stdout",
     "output_type": "stream",
     "text": [
      "The current value is 4\n"
     ]
    }
   ],
   "source": [
    "new_object.modify(2)\n",
    "new_object.display()"
   ]
  },
  {
   "cell_type": "code",
   "execution_count": 12,
   "metadata": {},
   "outputs": [],
   "source": [
    "class ObjectDescription:\n",
    "    def __init__(self, attribute=0):\n",
    "        print(\"Object created\")\n",
    "        self.an_attribute = attribute\n",
    "\n",
    "    def display(self):\n",
    "        print(\"The current value is {}\".format(self.an_attribute))\n",
    " \n",
    "    def modify(self, value):\n",
    "        self.an_attribute = value * 2"
   ]
  },
  {
   "cell_type": "code",
   "execution_count": 13,
   "metadata": {},
   "outputs": [
    {
     "name": "stdout",
     "output_type": "stream",
     "text": [
      "Object created\n",
      "The current value is 0\n"
     ]
    }
   ],
   "source": [
    "new_object = ObjectDescription()    # Default value of the attribute is 0\n",
    "new_object.display()\n"
   ]
  },
  {
   "cell_type": "code",
   "execution_count": 14,
   "metadata": {},
   "outputs": [
    {
     "name": "stdout",
     "output_type": "stream",
     "text": [
      "Object created\n",
      "The current value is 5\n"
     ]
    }
   ],
   "source": [
    "new_object = ObjectDescription(attribute=5)\n",
    "new_object.display()"
   ]
  },
  {
   "cell_type": "markdown",
   "metadata": {},
   "source": [
    "### Example: A time display\n",
    "\n"
   ]
  },
  {
   "cell_type": "code",
   "execution_count": 15,
   "metadata": {},
   "outputs": [],
   "source": [
    "class Time:\n",
    "    '''\n",
    "    A class to display the time in seconds\n",
    "    '''\n",
    "\n",
    "    def __init__(self, seconds=0):\n",
    "        self.seconds = seconds    # An attribute: the value is valid for the current object only\n",
    "\n",
    "    def display_time(self):    # A method\n",
    "        return f\"Elapsed time: {self.seconds:02} sec\""
   ]
  },
  {
   "cell_type": "code",
   "execution_count": 16,
   "metadata": {},
   "outputs": [
    {
     "name": "stdout",
     "output_type": "stream",
     "text": [
      "10\n"
     ]
    }
   ],
   "source": [
    "t1 = Time(10)\n",
    "print(t1.seconds)   # print the attribute seconds"
   ]
  },
  {
   "cell_type": "code",
   "execution_count": 17,
   "metadata": {},
   "outputs": [
    {
     "data": {
      "text/plain": [
       "'Elapsed time: 10 sec'"
      ]
     },
     "execution_count": 17,
     "metadata": {},
     "output_type": "execute_result"
    }
   ],
   "source": [
    "t1.display_time()    # Use display_time to properly print the time"
   ]
  },
  {
   "cell_type": "code",
   "execution_count": 18,
   "metadata": {},
   "outputs": [
    {
     "name": "stdout",
     "output_type": "stream",
     "text": [
      "<__main__.Time object at 0x114dbb910>\n"
     ]
    }
   ],
   "source": [
    "print(t1)    # No useful info"
   ]
  },
  {
   "cell_type": "code",
   "execution_count": 19,
   "metadata": {},
   "outputs": [],
   "source": [
    "class Time:\n",
    "    '''\n",
    "    A class to display the time in seconds\n",
    "    '''\n",
    "\n",
    "    def __init__(self, seconds=0):\n",
    "        self.seconds = seconds    # An attribute: the value is valid for the current object only\n",
    "\n",
    "    def display_time(self):    # A method\n",
    "        return f\"Elapsed time: {self.seconds:02} sec\"\n",
    "\n",
    "    def __str__(self):    # A dunder method automatically called when print is called (the print function is *overloaded*)\n",
    "        return self.display_time()"
   ]
  },
  {
   "cell_type": "code",
   "execution_count": 20,
   "metadata": {},
   "outputs": [
    {
     "name": "stdout",
     "output_type": "stream",
     "text": [
      "Elapsed time: 42 sec\n"
     ]
    }
   ],
   "source": [
    "t1 = Time(42)\n",
    "print(t1)"
   ]
  },
  {
   "cell_type": "markdown",
   "metadata": {},
   "source": [
    "### Object manipulation"
   ]
  },
  {
   "cell_type": "code",
   "execution_count": 21,
   "metadata": {},
   "outputs": [
    {
     "ename": "TypeError",
     "evalue": "unsupported operand type(s) for +: 'Time' and 'int'",
     "output_type": "error",
     "traceback": [
      "\u001b[0;31m---------------------------------------------------------------------------\u001b[0m",
      "\u001b[0;31mTypeError\u001b[0m                                 Traceback (most recent call last)",
      "Cell \u001b[0;32mIn[21], line 1\u001b[0m\n\u001b[0;32m----> 1\u001b[0m t1 \u001b[38;5;241m+\u001b[39m \u001b[38;5;241m30\u001b[39m\n",
      "\u001b[0;31mTypeError\u001b[0m: unsupported operand type(s) for +: 'Time' and 'int'"
     ]
    }
   ],
   "source": [
    "t1 + 30   # Add 30s to the object t1"
   ]
  },
  {
   "cell_type": "code",
   "execution_count": 22,
   "metadata": {},
   "outputs": [
    {
     "name": "stdout",
     "output_type": "stream",
     "text": [
      "<class '__main__.Time'>\n",
      "<class 'int'>\n"
     ]
    }
   ],
   "source": [
    "print(type(t1))\n",
    "print(type(30))"
   ]
  },
  {
   "cell_type": "markdown",
   "metadata": {},
   "source": [
    "* A method must be defined to allow this operation"
   ]
  },
  {
   "cell_type": "code",
   "execution_count": 23,
   "metadata": {},
   "outputs": [],
   "source": [
    "class Time:\n",
    "    '''\n",
    "    A class to display the time in seconds\n",
    "    '''\n",
    "\n",
    "    def __init__(self, seconds=0):\n",
    "        self.seconds = seconds    # An attribute: the value is valid for the current object only\n",
    "\n",
    "    def display_time(self):    # A method\n",
    "        return f\"Elapsed time: {self.seconds:02} sec\"\n",
    "\n",
    "    def __str__(self):    # A dunder method automatically called when print is called (the print function is overloaded)\n",
    "        return self.display_time()\n",
    "\n",
    "    def add(self, time):\n",
    "        if isinstance(time, int):     # Check if time argument is an integer\n",
    "            self.seconds += time    # self.seconds is an int, this operation is possible\n",
    "        else:\n",
    "            raise TypeError(\"not valid argument\")\n",
    "        # return self    # Useful if you want to print something like t1.add(20), otherwise you don't have to return anything"
   ]
  },
  {
   "cell_type": "code",
   "execution_count": 24,
   "metadata": {},
   "outputs": [
    {
     "name": "stdout",
     "output_type": "stream",
     "text": [
      "Elapsed time: 61 sec\n",
      "Elapsed time: 81 sec\n"
     ]
    }
   ],
   "source": [
    "t1 = Time(61)\n",
    "print(t1)\n",
    "\n",
    "t1.add(20)\n",
    "print(t1)"
   ]
  },
  {
   "cell_type": "markdown",
   "metadata": {},
   "source": [
    "* We want to use the + sign"
   ]
  },
  {
   "cell_type": "code",
   "execution_count": 25,
   "metadata": {},
   "outputs": [],
   "source": [
    "class Time:\n",
    "    '''\n",
    "    A class to display the time in seconds\n",
    "    '''\n",
    "\n",
    "    def __init__(self, seconds=0):\n",
    "        self.seconds = seconds    # An attribute: the value is valid for the current object only\n",
    "\n",
    "    def display_time(self):    # A method\n",
    "        return f\"Elapsed time: {self.seconds:02} sec\"\n",
    "\n",
    "    def __str__(self):    # A dunder method automatically called when print is called (the print function is overloaded)\n",
    "        return self.display_time()\n",
    "\n",
    "    def add(self, time):\n",
    "        self.seconds += time\n",
    "        return self\n",
    "\n",
    "    def add(self, time):\n",
    "        if isinstance(time, int):     # Check if time argument is an integer\n",
    "            self.seconds += time    # self.seconds is an int, this operation is possible\n",
    "        else:\n",
    "            raise TypeError(\"not valid argument\")\n",
    "        return self    # Here it's useful because you want to print something like t1 + t1.add(20)\n",
    "\n",
    "    def __add__(self, time):    # Dunder method that overloads the + symbol\n",
    "        return self.add(time)"
   ]
  },
  {
   "cell_type": "code",
   "execution_count": 26,
   "metadata": {},
   "outputs": [
    {
     "name": "stdout",
     "output_type": "stream",
     "text": [
      "Elapsed time: 131 sec\n"
     ]
    }
   ],
   "source": [
    "t1 = Time(101)\n",
    "print(t1 + 30)"
   ]
  },
  {
   "cell_type": "markdown",
   "metadata": {},
   "source": [
    "* We want to add two Time objects using the + sign"
   ]
  },
  {
   "cell_type": "code",
   "execution_count": 27,
   "metadata": {},
   "outputs": [],
   "source": [
    "class Time:\n",
    "    '''\n",
    "    A class to display the time in seconds\n",
    "    '''\n",
    "\n",
    "    def __init__(self, seconds=0):\n",
    "        self.seconds = seconds    # An attribute: the value is valid for the current object only\n",
    "\n",
    "    def display_time(self):    # A method\n",
    "        return f\"Elapsed time: {self.seconds:02} sec\"\n",
    "\n",
    "    def __str__(self):    # A dunder method automatically called when print is called (the print function is overloaded)\n",
    "        return self.display_time()\n",
    "\n",
    "    def add(self, time):\n",
    "        if isinstance(time, int):     # Check if time argument is an integer\n",
    "            self.seconds += time    # self.seconds is an int, this operation is possible\n",
    "        elif isinstance(time, Time):    # Check if time is a Time object\n",
    "            self.seconds += time.seconds\n",
    "        else:\n",
    "            raise TypeError(\"not valid argument\")\n",
    "        return self    # Here it's useful because you want to print something like t1 + t1.add(20)\n",
    "\n",
    "    def __add__(self, time):    # Dunder method that overloads the + symbol\n",
    "        return self.add(time)"
   ]
  },
  {
   "cell_type": "code",
   "execution_count": 28,
   "metadata": {},
   "outputs": [
    {
     "name": "stdout",
     "output_type": "stream",
     "text": [
      "Elapsed time: 131 sec\n",
      "Elapsed time: 152 sec\n"
     ]
    }
   ],
   "source": [
    "t1 = Time(101)\n",
    "print(t1 + 30)\n",
    "\n",
    "t2 = Time(21)\n",
    "print(t1 + t2)"
   ]
  },
  {
   "cell_type": "markdown",
   "metadata": {},
   "source": [
    "## Class inheritance\n",
    "\n",
    "* **Inheritance** is the process by which one class takes on the attributes and methods of another\n",
    "* Newly formed classes are called **child** classes, and the classes that child classes are derived from are called **parent** classes\n",
    "\n",
    "Let's say we want to add a functionnality to the Time class objects, e.g. display time in minutes/seconds. Instead of redefining the entire Time class, we can create a new class (called TimeMS) that inherit all the attributes and methods of the Time class."
   ]
  },
  {
   "cell_type": "code",
   "execution_count": 29,
   "metadata": {},
   "outputs": [],
   "source": [
    "class TimeMS(Time):    # Time is the parent class, TimeMS is the child class\n",
    "\n",
    "    def __init__(self, seconds=0):\n",
    "        super().__init__(seconds)    # The super() method calls the inherited class (similar to Time.__init__(self, seconds)) \n",
    "        self.minutes = 0\n",
    "\n",
    "    def display_time(self):    # The parent method display_time is overwritten\n",
    "        minutes = self.seconds // 60    # Floor division\n",
    "        seconds = self.seconds % 60    # Modulus\n",
    "        return f\"Elapsed time: {minutes:02} min / {seconds:02} sec\""
   ]
  },
  {
   "cell_type": "code",
   "execution_count": 30,
   "metadata": {},
   "outputs": [
    {
     "name": "stdout",
     "output_type": "stream",
     "text": [
      "Elapsed time: 01 min / 15 sec\n"
     ]
    }
   ],
   "source": [
    "t1 = TimeMS(seconds=75)\n",
    "print(t1)"
   ]
  },
  {
   "cell_type": "markdown",
   "metadata": {},
   "source": [
    "* We can modify the class to store the time in minutes and seconds"
   ]
  },
  {
   "cell_type": "code",
   "execution_count": 31,
   "metadata": {},
   "outputs": [],
   "source": [
    "class TimeMS(Time):    # Time is the parent class, TimeMS is the child class\n",
    "\n",
    "    def __init__(self, seconds=0, minutes=0):\n",
    "        super().__init__(seconds)    # The super() method calls the inherited class (similar to Time.__init__(self, seconds))\n",
    "        self.minutes = minutes\n",
    "        self.split_min_sec()\n",
    "\n",
    "    def split_min_sec(self):    # A new method for the child TimeMS class that splits minutes and secondes (if seconds >= 60)\n",
    "        if self.seconds >= 60:\n",
    "            self.minutes += self.seconds // 60    # The attributes are modified inside the class\n",
    "            self.seconds = self.seconds % 60 \n",
    "\n",
    "    def display_time(self):    # The parent method display_time is overwritten\n",
    "        return f\"Elapsed time: {self.minutes:02} min / {self.seconds:02} sec\"\n",
    "\n",
    "    def add(self, time):    # Parent add method is overwritten to allow addition with minutes/seconds format\n",
    "        time_s = Time(self.seconds)    # Instantiate a Time object\n",
    "        t = time_s.add(time)    # Call the add method and store it in a temporary variable\n",
    "        time_ms = TimeMS(minutes=self.minutes, seconds=t.seconds)    # Instantiate TimeMS with minutes/seconds arguments \n",
    "        time_ms.split_min_sec()    # Call the method to split minutes/seconds\n",
    "        return time_ms    # Returns the time in minutes/second format\n"
   ]
  },
  {
   "cell_type": "code",
   "execution_count": 32,
   "metadata": {},
   "outputs": [
    {
     "name": "stdout",
     "output_type": "stream",
     "text": [
      "Elapsed time: 07 min / 15 sec\n"
     ]
    }
   ],
   "source": [
    "t1 = TimeMS(minutes=1, seconds=375)\n",
    "print(t1)"
   ]
  },
  {
   "cell_type": "code",
   "execution_count": 33,
   "metadata": {},
   "outputs": [
    {
     "name": "stdout",
     "output_type": "stream",
     "text": [
      "Elapsed time: 09 min / 15 sec\n"
     ]
    }
   ],
   "source": [
    "print(t1 + 120)"
   ]
  },
  {
   "cell_type": "markdown",
   "metadata": {},
   "source": [
    "## Summary\n",
    "\n",
    "* Define a **class**, which is a sort of blueprint for an object\n",
    "* **Instantiate** an object from a class\n",
    "* Use **attributes** and **methods** to define the properties and behaviors of an object\n",
    "* Use **inheritance** to create child classes from a parent class\n",
    "* Reference a method on a parent class using `super()`"
   ]
  }
 ],
 "metadata": {
  "kernelspec": {
   "display_name": "optiq",
   "language": "python",
   "name": "python3"
  },
  "language_info": {
   "codemirror_mode": {
    "name": "ipython",
    "version": 3
   },
   "file_extension": ".py",
   "mimetype": "text/x-python",
   "name": "python",
   "nbconvert_exporter": "python",
   "pygments_lexer": "ipython3",
   "version": "3.11.9"
  },
  "orig_nbformat": 4
 },
 "nbformat": 4,
 "nbformat_minor": 2
}
